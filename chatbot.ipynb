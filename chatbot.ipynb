{
  "nbformat": 4,
  "nbformat_minor": 0,
  "metadata": {
    "colab": {
      "provenance": []
    },
    "kernelspec": {
      "name": "python3",
      "display_name": "Python 3"
    },
    "language_info": {
      "name": "python"
    }
  },
  "cells": [
    {
      "cell_type": "code",
      "execution_count": null,
      "metadata": {
        "colab": {
          "base_uri": "https://localhost:8080/"
        },
        "id": "rudfAFVkzYPQ",
        "outputId": "5719b4fa-2900-4544-da73-ae10dd4a8f2f"
      },
      "outputs": [
        {
          "output_type": "stream",
          "name": "stdout",
          "text": [
            "Looking in indexes: https://pypi.org/simple, https://us-python.pkg.dev/colab-wheels/public/simple/\n",
            "Requirement already satisfied: experta in /usr/local/lib/python3.9/dist-packages (1.9.4)\n",
            "Requirement already satisfied: schema==0.6.7 in /usr/local/lib/python3.9/dist-packages (from experta) (0.6.7)\n",
            "Requirement already satisfied: frozendict==1.2 in /usr/local/lib/python3.9/dist-packages (from experta) (1.2)\n"
          ]
        }
      ],
      "source": [
        "! pip install experta"
      ]
    },
    {
      "cell_type": "code",
      "source": [
        "from experta import *\n",
        "engine = KnowledgeEngine()\n",
        "engine.reset()"
      ],
      "metadata": {
        "id": "bG4IkXdxaoqP"
      },
      "execution_count": null,
      "outputs": []
    },
    {
      "cell_type": "code",
      "source": [
        "watches_brand = [\"Rolex\", \"Omega\", \"Tag Heuer\", \"Breitling\", \"Cartier\", \"Patek Philippe\", \"Audemars Piguet\"]\n",
        "perfume_brands = ['Chanel', 'Dolce & Gabbana', 'Tom Ford', 'Jo Malone', 'Yves Saint Laurent', 'Givenchy', 'Burberry', 'Calvin Klein', 'Hugo Boss', 'Versace']\n",
        "\n",
        "class Gender_Question(Fact):\n",
        "    pass\n",
        "class Watches_Question(Fact):\n",
        "    pass\n",
        "class Perfume_Question(Fact):\n",
        "    pass\n",
        "class Continue_Question(Fact):\n",
        "    pass\n",
        "\n",
        "\n",
        "class Greetings(KnowledgeEngine):   \n",
        "    @DefFacts()\n",
        "    def _initial_action(self):\n",
        "        yield Fact(action=\"Start\")\n",
        "    @Rule(Fact(action='Start')\n",
        "    ,NOT(Gender_Question(name=W()))\n",
        "    ,NOT(Watches_Question(name=W()))\n",
        "    ,NOT(Perfume_Question(name=W()))\n",
        "    ,NOT(Continue_Question(name=W())))\n",
        "\n",
        "    def greeting(self):\n",
        "        print(\" Hello I hope that you are doing well!\")\n",
        "        self.declare(Gender_Question(name=\"Please , Inter Your Gender ?\"))\n",
        "\n",
        "##########################################################################################\n",
        "\n",
        "    @Rule(Fact(action='Start'),AS.Gender_List<<Gender_Question(name=\"Please , Inter Your Gender ?\"),\n",
        "          NOT(Watches_Question(name=W()))\n",
        "          ,NOT(Perfume_Question(name=W()))\n",
        "          ,NOT(Continue_Question(name=W())))\n",
        "    \n",
        "\n",
        "    def Question1(self,Gender_List):\n",
        "        ans=input(\" Please , Inter Your Gender ? \\n If you are male type male otherwise type female (:  \")\n",
        "        if ans=='male':\n",
        "            print(\" Ok it very nice (: \")\n",
        "            self.declare(Watches_Question(name=\" Do you like watches ?\"))\n",
        "\n",
        "\n",
        "        elif ans==\"female\":\n",
        "            print(\" Ok it very nice (: \")\n",
        "            self.declare(Watches_Question(name=\" Do you like watches ?\"))\n",
        "\n",
        "            \n",
        "        else:\n",
        "            print(\" Sorry ): \\n Invalid option! please choose male or female\")\n",
        "            self.retract(Gender_List)\n",
        "            self.declare(Gender_Question(name=\"Please , Inter Your Gender ?\"))\n",
        "      \n",
        "##########################################################################################\n",
        "    \n",
        "    @Rule(Fact(action='Start'),AS.watch_L<<Watches_Question(name=\" Do you like watches ?\")\n",
        "    ,NOT(Perfume_Question(name=W()))\n",
        "    ,NOT(Continue_Question(name=W())))\n",
        "\n",
        "\n",
        "    def Question2(self,watch_L):\n",
        "        ans=input(\" Do you like watches? \\n press yes if you want see list watches else if you are not interested press no (:\")\n",
        "\n",
        "        if ans=='yes':\n",
        "            print(\" Ok it very nice (: \\n we have this waches (: \")\n",
        "            for brand in watches_brand:\n",
        "             print(brand)\n",
        "\n",
        "            \n",
        "        elif ans==\"no\":\n",
        "            self.declare(Perfume_Question(name=\" Do you like perfumes ?\"))\n",
        "\n",
        "        else:\n",
        "\n",
        "           self.retract(watch_L)\n",
        "           print(\" Sorry ): \\n Invalid option! please choose yes or no:\")\n",
        "           self.declare(Watches_Question(name=\" Do you like watches ?\"))\n",
        "\n",
        "##########################################################################################\n",
        "\n",
        "    @Rule(Fact(action='Start'),AS.perfume_L<<Perfume_Question(name=\" Do you like perfumes ?\")\n",
        "    ,NOT(Continue_Question(name=W())))\n",
        "\n",
        "\n",
        "    def Question3(self,perfume_L):\n",
        "        ans=input(\" Do you like perfumes ? \\n press yes if you want see list perfumes press no you are not interested (:\")\n",
        "\n",
        "        if ans=='yes':\n",
        "            print(\" Ok it very nice (: \\n we have this perfumes(: \")\n",
        "            for brand in perfume_brands:\n",
        "              print(brand)\n",
        "        \n",
        "        elif ans==\"no\":\n",
        "            self.declare(Continue_Question(name=\" choose yes or no ?\"))\n",
        "        else:\n",
        "            self.retract(perfume_L)\n",
        "            print(\"Sorry ): \\n Invalid option! please choose yes or no (: \")\n",
        "            self.declare(Perfumes_Question(name=\"Do you like perfumes ?\"))\n",
        "\n",
        "##########################################################################################\n",
        "                \n",
        "    @Rule(Fact(action='Start')\n",
        "    ,AS.watch_L<<Watches_Question(name=\" Do you like watches ?\")\n",
        "    ,AS.perfume_L<<Perfume_Question(name=\" Do you like perfumes ?\")\n",
        "    ,AS.Continue<<Continue_Question(name=\" choose yes or no ?\"))\n",
        "\n",
        "\n",
        "    def Question(self,watch_L,perfume_L,Continue):\n",
        "        ans=input(\" choose yes or no ? \\n press yes if you want to repeat else if you are not interested to continue press no (:\")\n",
        "\n",
        "        if ans=='yes':\n",
        "            self.retract(watch_L)\n",
        "            self.retract(perfume_L)\n",
        "            self.retract(Continue)\n",
        "\n",
        "            self.declare(Watches_Question(name=\" Do you like watches ?\" ))\n",
        "\n",
        "        elif ans==\"no\":\n",
        "            print(\" Thank for you (: <3 (: <3 (: <3 (: <3 \")\n",
        "        else:\n",
        "            self.retract(Continue)\n",
        "            print(\" Sorry ): \\n Invalid option! please choose yes or no (: \")\n",
        "            self.declare(Continue_Q(name=\" choose yes or no ?\"))\n",
        "    \n",
        "\n",
        "\n",
        "\n",
        "\n",
        "\n",
        "\n",
        "\n",
        "\n",
        "engine = Greetings()\n",
        "engine.reset() \n",
        "engine.run()"
      ],
      "metadata": {
        "colab": {
          "base_uri": "https://localhost:8080/"
        },
        "id": "AxOLLoj-ao2z",
        "outputId": "3b395122-cb1c-4cb7-8248-1883d44c96c5"
      },
      "execution_count": 38,
      "outputs": [
        {
          "output_type": "stream",
          "name": "stdout",
          "text": [
            " Hello I hope that you are doing well!\n",
            " Please , Inter Your Gender ? \n",
            " If you are male type male otherwise type female (:  male\n",
            " Ok it very nice (: \n",
            " Do you like watches? \n",
            " press yes if you want see list watches else if you are not interested press no (:no\n",
            " Do you like perfumes ? \n",
            " press yes if you want see list perfumes else if you are not interested press no (:no\n",
            " choose yes or no ? \n",
            " press yes if you want to repeat else if you are not interested to continue press no (:yes\n",
            " Do you like watches? \n",
            " press yes if you want see list watches else if you are not interested press no (:no\n",
            " Do you like perfumes ? \n",
            " press yes if you want see list perfumes else if you are not interested press no (:yes\n",
            " Ok it very nice (: \n",
            " we have this perfumes(: \n",
            "Chanel\n",
            "Dolce & Gabbana\n",
            "Tom Ford\n",
            "Jo Malone\n",
            "Yves Saint Laurent\n",
            "Givenchy\n",
            "Burberry\n",
            "Calvin Klein\n",
            "Hugo Boss\n",
            "Versace\n"
          ]
        }
      ]
    },
    {
      "cell_type": "code",
      "source": [
        "print ( \"Ali Rafeeq\")"
      ],
      "metadata": {
        "colab": {
          "base_uri": "https://localhost:8080/"
        },
        "id": "zyV299YUi5QC",
        "outputId": "b5993e78-9534-4638-e167-c120ad0b1e55"
      },
      "execution_count": 36,
      "outputs": [
        {
          "output_type": "stream",
          "name": "stdout",
          "text": [
            "Ali Rafeeq\n"
          ]
        }
      ]
    }
  ]
}